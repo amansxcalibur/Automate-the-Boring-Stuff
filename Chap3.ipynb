{
 "cells": [
  {
   "cell_type": "code",
   "execution_count": null,
   "metadata": {},
   "outputs": [],
   "source": [
    "#Q1\n",
    "def collatz(number):\n",
    "    if number%2==0:\n",
    "        print(number//2)\n",
    "        return number//2\n",
    "    else:\n",
    "        print(3*number+1)\n",
    "        return 3*number+1\n",
    "collatz(int(input()))"
   ]
  }
 ],
 "metadata": {
  "language_info": {
   "name": "python"
  }
 },
 "nbformat": 4,
 "nbformat_minor": 2
}
